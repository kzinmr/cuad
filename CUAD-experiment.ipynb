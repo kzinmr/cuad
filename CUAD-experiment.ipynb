{
 "cells": [
  {
   "cell_type": "markdown",
   "id": "7a44249a",
   "metadata": {},
   "source": [
    "# CUAD Training"
   ]
  },
  {
   "cell_type": "code",
   "execution_count": null,
   "id": "66559159",
   "metadata": {
    "scrolled": true
   },
   "outputs": [],
   "source": [
    "# Python 3.8, PyTorch 1.7, and Transformers 4.3/4.4.\n",
    "!pip install -qU torch==1.7.1\n",
    "!pip install -q transformers==4.4.2"
   ]
  },
  {
   "cell_type": "code",
   "execution_count": null,
   "id": "4984f284",
   "metadata": {},
   "outputs": [],
   "source": [
    "!mkdir data && cp data.zip data/ && cd data && unzip ./data.zip"
   ]
  },
  {
   "cell_type": "code",
   "execution_count": null,
   "id": "792f5407",
   "metadata": {},
   "outputs": [],
   "source": [
    "!mkdir -p ./train_models/roberta-base"
   ]
  },
  {
   "cell_type": "code",
   "execution_count": null,
   "id": "476db8da",
   "metadata": {},
   "outputs": [],
   "source": [
    "!./run.sh\n",
    "# !CUDA_VISIBLE_DEVICES=0,1 python train.py \\\n",
    "#         --output_dir ./train_models/roberta-base \\\n",
    "#         --model_type roberta \\\n",
    "#         --model_name_or_path roberta-base \\\n",
    "#         --train_file ./data/train_separate_questions.json \\\n",
    "#         --predict_file ./data/test.json \\\n",
    "#         --do_train \\\n",
    "#         --do_eval \\\n",
    "#         --version_2_with_negative \\\n",
    "#         --learning_rate 1e-4 \\\n",
    "#         --num_train_epochs 4 \\\n",
    "#         --per_gpu_eval_batch_size=40  \\\n",
    "#         --per_gpu_train_batch_size=40 \\\n",
    "#         --max_seq_length 512 \\\n",
    "#         --max_answer_length 512 \\\n",
    "#         --doc_stride 256 \\\n",
    "#         --save_steps 1000 \\\n",
    "#         --n_best_size 20 \\\n",
    "#         --overwrite_output_dir"
   ]
  },
  {
   "cell_type": "markdown",
   "id": "127b29bc",
   "metadata": {},
   "source": [
    "# Dataset"
   ]
  },
  {
   "cell_type": "code",
   "execution_count": null,
   "id": "55fbda7e",
   "metadata": {},
   "outputs": [],
   "source": [
    "# !wget -O CUAD_v1.zip https://zenodo.org/record/4595826/files/CUAD_v1.zip"
   ]
  },
  {
   "cell_type": "code",
   "execution_count": null,
   "id": "720ed17b",
   "metadata": {},
   "outputs": [],
   "source": [
    "# CUAD_v1.json       full_contract_pdf  label_group_xlsx\n",
    "# CUAD_v1_README.txt full_contract_txt  master_clauses.csv\n",
    "\n",
    "# import zipfile\n",
    "# with zipfile.ZipFile('CUAD_v1.zip') as zfp:\n",
    "#     zfp.extractall('./')"
   ]
  }
 ],
 "metadata": {
  "kernelspec": {
   "display_name": "Python 3",
   "language": "python",
   "name": "python3"
  },
  "language_info": {
   "codemirror_mode": {
    "name": "ipython",
    "version": 3
   },
   "file_extension": ".py",
   "mimetype": "text/x-python",
   "name": "python",
   "nbconvert_exporter": "python",
   "pygments_lexer": "ipython3",
   "version": "3.9.2"
  }
 },
 "nbformat": 4,
 "nbformat_minor": 5
}
